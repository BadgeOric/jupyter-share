{
 "cells": [
  {
   "cell_type": "code",
   "execution_count": 48,
   "id": "e2a6b5c0",
   "metadata": {},
   "outputs": [],
   "source": [
    "import numpy as np\n",
    "\n",
    "def levenshteinDistance(str1, str2):\n",
    "    m = len(str1)\n",
    "    n = len(str2)\n",
    "    d = [[i] for i in range(1, m + 1)]   # d matrix rows\n",
    "    d.insert(0, list(range(0, n + 1)))   # d matrix columns\n",
    "    for j in range(1, n + 1):\n",
    "        for i in range(1, m + 1):\n",
    "            if str1[i - 1] == str2[j - 1]:   # Python (string) is 0-based\n",
    "                substitutionCost = 0\n",
    "            else:\n",
    "                substitutionCost = 1\n",
    "            d[i].insert(j, min(d[i - 1][j] + 1,\n",
    "                               d[i][j - 1] + 1,\n",
    "                               d[i - 1][j - 1] + substitutionCost))\n",
    "    \n",
    "    return d[-1][-1]\n",
    "\n"
   ]
  },
  {
   "cell_type": "code",
   "execution_count": 58,
   "id": "a313d7f8",
   "metadata": {},
   "outputs": [],
   "source": [
    "def getDictionary():\n",
    "    with open(\"c:\\workbooks\\english2.txt\") as f:\n",
    "        content_list = [line.rstrip() for line in f]\n",
    "    return content_list"
   ]
  },
  {
   "cell_type": "code",
   "execution_count": 71,
   "id": "1519b58b",
   "metadata": {},
   "outputs": [
    {
     "name": "stdout",
     "output_type": "stream",
     "text": [
      "Enter a word:rabbit\n",
      "Top 5 Results\n",
      "rabbit\n",
      "rabbet\n",
      "rabbi\n",
      "rabbis\n",
      "rabbits\n"
     ]
    }
   ],
   "source": [
    "\n",
    "s1 = input(\"Enter a word:\")\n",
    "\n",
    "checkList=[]\n",
    "curMin = 999\n",
    "minWord=\"\"\n",
    "thisDict = getDictionary()\n",
    "for curWord in thisDict:\n",
    "    cd = levenshteinDistance(s1,curWord)\n",
    "    checkList.append([cd,curWord])\n",
    "\n",
    "checkList.sort(key=lambda y: y[0])\n",
    "N = 5\n",
    "suggestList = checkList[:N]\n",
    "print(\"Top 5 Results\")\n",
    "for elements in suggestList:\n",
    "    print(elements[1])\n",
    "\n"
   ]
  },
  {
   "cell_type": "code",
   "execution_count": null,
   "id": "9dbe5d55",
   "metadata": {},
   "outputs": [],
   "source": []
  }
 ],
 "metadata": {
  "kernelspec": {
   "display_name": "geo_env",
   "language": "python",
   "name": "geo_env"
  },
  "language_info": {
   "codemirror_mode": {
    "name": "ipython",
    "version": 3
   },
   "file_extension": ".py",
   "mimetype": "text/x-python",
   "name": "python",
   "nbconvert_exporter": "python",
   "pygments_lexer": "ipython3",
   "version": "3.10.5"
  }
 },
 "nbformat": 4,
 "nbformat_minor": 5
}
